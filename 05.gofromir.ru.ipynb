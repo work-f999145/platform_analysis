{
 "cells": [
  {
   "cell_type": "code",
   "execution_count": 1,
   "metadata": {},
   "outputs": [],
   "source": [
    "import pandas as pd\n",
    "import re\n",
    "from bs4 import BeautifulSoup as BS\n",
    "import requests"
   ]
  },
  {
   "cell_type": "code",
   "execution_count": 5,
   "metadata": {},
   "outputs": [
    {
     "data": {
      "text/plain": [
       "<Response [200]>"
      ]
     },
     "execution_count": 5,
     "metadata": {},
     "output_type": "execute_result"
    }
   ],
   "source": [
    "import requests\n",
    "\n",
    "cookies = {\n",
    "    'PHPSESSID': 'RUCe93ml2qpJkznZcDOw6t7QQl92HJdb',\n",
    "    'agci_httpaccept': 'text%2Fhtml%2Capplication%2Fxhtml%2Bxml%2Capplication%2Fxml%3Bq%3D0.9%2Cimage%2Favif%2Cimage%2Fwebp%2Cimage%2Fapng%2C%2A%2F%2A%3Bq%3D0.8%2Capplication%2Fsigned-exchange%3Bv%3Db3%3Bq%3D0.7',\n",
    "    'GOFROMIR_SITE_PK': 'standart',\n",
    "    'GOFROMIR_SITE_GUEST_ID': '796787',\n",
    "    'BITRIX_CONVERSION_CONTEXT_s1': '%7B%22ID%22%3A1%2C%22EXPIRE%22%3A1724878740%2C%22UNIQUE%22%3A%5B%22conversion_visit_day%22%5D%7D',\n",
    "    'current_region_id': '318',\n",
    "    'gtm-session-start': '1724830462150',\n",
    "    'BX_USER_ID': 'a56e41748e543b4d115c2f9d285940c5',\n",
    "    '_ga': 'GA1.1.1298346235.1724830463',\n",
    "    'mgo_sb_migrations': '1418474375998%253D1',\n",
    "    'mgo_sb_current': 'typ%253Dtypein%257C%252A%257Csrc%253D%2528direct%2529%257C%252A%257Cmdm%253D%2528none%2529%257C%252A%257Ccmp%253D%2528none%2529%257C%252A%257Ccnt%253D%2528none%2529%257C%252A%257Ctrm%253D%2528none%2529%257C%252A%257Cmango%253D%2528none%2529',\n",
    "    'mgo_sb_first': 'typ%253Dtypein%257C%252A%257Csrc%253D%2528direct%2529%257C%252A%257Cmdm%253D%2528none%2529%257C%252A%257Ccmp%253D%2528none%2529%257C%252A%257Ccnt%253D%2528none%2529%257C%252A%257Ctrm%253D%2528none%2529%257C%252A%257Cmango%253D%2528none%2529',\n",
    "    'mgo_uid': 'UECibMSIobGKhVaf2ZZk',\n",
    "    'mgo_cnt': '1',\n",
    "    'mgo_sid': 'wvqssix3pb110011m34u',\n",
    "    'roistat_visit': '2870024',\n",
    "    'roistat_first_visit': '2870024',\n",
    "    'roistat_visit_cookie_expire': '1209600',\n",
    "    'roistat_is_need_listen_requests': '0',\n",
    "    'roistat_is_save_data_in_cookie': '1',\n",
    "    'roistat_cookies_to_resave': 'roistat_ab%2Croistat_ab_submit%2Croistat_visit',\n",
    "    'current_region_name': '%0A%09%09%09%D0%9A%D0%B0%D0%B7%D0%B0%D0%BD%D1%8C%0A%09%09',\n",
    "    '_ym_uid': '1724830478347213895',\n",
    "    '_ym_d': '1724830478',\n",
    "    '_ym_isad': '2',\n",
    "    '_ym_visorc': 'w',\n",
    "    '___dc': 'd89f5985-c76b-4c1b-b0c8-a5c685b871f2',\n",
    "    'GOFROMIR_SITE_LAST_VISIT': '28.08.2024%2010%3A35%3A21',\n",
    "    'mgo_sb_session': 'pgs%253D5%257C%252A%257Ccpg%253Dhttps%253A%252F%252Fgofromir.ru%252Fcatalog%252F',\n",
    "    '_ga_5547L4QC2Q': 'GS1.1.1724830462.1.1.1724830583.60.0.0',\n",
    "}\n",
    "\n",
    "headers = {\n",
    "    'accept': 'text/html,application/xhtml+xml,application/xml;q=0.9,image/avif,image/webp,image/apng,*/*;q=0.8,application/signed-exchange;v=b3;q=0.7',\n",
    "    'accept-language': 'ru-RU,ru;q=0.9,en-US;q=0.8,en;q=0.7,de;q=0.6',\n",
    "    # 'cookie': 'PHPSESSID=RUCe93ml2qpJkznZcDOw6t7QQl92HJdb; agci_httpaccept=text%2Fhtml%2Capplication%2Fxhtml%2Bxml%2Capplication%2Fxml%3Bq%3D0.9%2Cimage%2Favif%2Cimage%2Fwebp%2Cimage%2Fapng%2C%2A%2F%2A%3Bq%3D0.8%2Capplication%2Fsigned-exchange%3Bv%3Db3%3Bq%3D0.7; GOFROMIR_SITE_PK=standart; GOFROMIR_SITE_GUEST_ID=796787; BITRIX_CONVERSION_CONTEXT_s1=%7B%22ID%22%3A1%2C%22EXPIRE%22%3A1724878740%2C%22UNIQUE%22%3A%5B%22conversion_visit_day%22%5D%7D; current_region_id=318; gtm-session-start=1724830462150; BX_USER_ID=a56e41748e543b4d115c2f9d285940c5; _ga=GA1.1.1298346235.1724830463; mgo_sb_migrations=1418474375998%253D1; mgo_sb_current=typ%253Dtypein%257C%252A%257Csrc%253D%2528direct%2529%257C%252A%257Cmdm%253D%2528none%2529%257C%252A%257Ccmp%253D%2528none%2529%257C%252A%257Ccnt%253D%2528none%2529%257C%252A%257Ctrm%253D%2528none%2529%257C%252A%257Cmango%253D%2528none%2529; mgo_sb_first=typ%253Dtypein%257C%252A%257Csrc%253D%2528direct%2529%257C%252A%257Cmdm%253D%2528none%2529%257C%252A%257Ccmp%253D%2528none%2529%257C%252A%257Ccnt%253D%2528none%2529%257C%252A%257Ctrm%253D%2528none%2529%257C%252A%257Cmango%253D%2528none%2529; mgo_uid=UECibMSIobGKhVaf2ZZk; mgo_cnt=1; mgo_sid=wvqssix3pb110011m34u; roistat_visit=2870024; roistat_first_visit=2870024; roistat_visit_cookie_expire=1209600; roistat_is_need_listen_requests=0; roistat_is_save_data_in_cookie=1; roistat_cookies_to_resave=roistat_ab%2Croistat_ab_submit%2Croistat_visit; current_region_name=%0A%09%09%09%D0%9A%D0%B0%D0%B7%D0%B0%D0%BD%D1%8C%0A%09%09; _ym_uid=1724830478347213895; _ym_d=1724830478; _ym_isad=2; _ym_visorc=w; ___dc=d89f5985-c76b-4c1b-b0c8-a5c685b871f2; GOFROMIR_SITE_LAST_VISIT=28.08.2024%2010%3A35%3A21; mgo_sb_session=pgs%253D5%257C%252A%257Ccpg%253Dhttps%253A%252F%252Fgofromir.ru%252Fcatalog%252F; _ga_5547L4QC2Q=GS1.1.1724830462.1.1.1724830583.60.0.0',\n",
    "    'priority': 'u=0, i',\n",
    "    'referer': 'https://gofromir.ru/catalog/',\n",
    "    'sec-ch-ua': '\"Chromium\";v=\"128\", \"Not;A=Brand\";v=\"24\", \"Google Chrome\";v=\"128\"',\n",
    "    'sec-ch-ua-mobile': '?0',\n",
    "    'sec-ch-ua-platform': '\"Windows\"',\n",
    "    'sec-fetch-dest': 'document',\n",
    "    'sec-fetch-mode': 'navigate',\n",
    "    'sec-fetch-site': 'same-origin',\n",
    "    'sec-fetch-user': '?1',\n",
    "    'upgrade-insecure-requests': '1',\n",
    "    'user-agent': 'Mozilla/5.0 (Windows NT 10.0; Win64; x64) AppleWebKit/537.36 (KHTML, like Gecko) Chrome/128.0.0.0 Safari/537.36',\n",
    "}\n",
    "\n",
    "response = requests.get('https://gofromir.ru/catalog/po-otraslyam/arxiv-i-pereezd/', \n",
    "                        # cookies=cookies, \n",
    "                        # headers=headers\n",
    "                        )\n",
    "response"
   ]
  },
  {
   "cell_type": "code",
   "execution_count": 6,
   "metadata": {},
   "outputs": [],
   "source": [
    "with open('data/test/test.html', 'wb') as f:\n",
    "    f.write(response.content)"
   ]
  }
 ],
 "metadata": {
  "kernelspec": {
   "display_name": "Python 3",
   "language": "python",
   "name": "python3"
  },
  "language_info": {
   "codemirror_mode": {
    "name": "ipython",
    "version": 3
   },
   "file_extension": ".py",
   "mimetype": "text/x-python",
   "name": "python",
   "nbconvert_exporter": "python",
   "pygments_lexer": "ipython3",
   "version": "3.12.2"
  }
 },
 "nbformat": 4,
 "nbformat_minor": 2
}
