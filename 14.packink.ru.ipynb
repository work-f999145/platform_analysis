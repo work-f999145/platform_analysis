{
 "cells": [
  {
   "cell_type": "code",
   "execution_count": null,
   "metadata": {},
   "outputs": [],
   "source": [
    "import pandas as pd\n",
    "import re\n",
    "from bs4 import BeautifulSoup as BS\n",
    "import requests"
   ]
  },
  {
   "cell_type": "code",
   "execution_count": 3,
   "metadata": {},
   "outputs": [
    {
     "data": {
      "text/plain": [
       "<Response [200]>"
      ]
     },
     "execution_count": 3,
     "metadata": {},
     "output_type": "execute_result"
    }
   ],
   "source": [
    "import requests\n",
    "\n",
    "cookies = {\n",
    "    'SESS0f61e0829bcb8cba96982fad918d55a0': 'dc85f69769f2960fb34f60113e6a2380',\n",
    "    '_ga': 'GA1.1.1384646350.1724846859',\n",
    "    '_ga_TFSV0MH647': 'GS1.1.1724846859.1.0.1724846859.60.0.0',\n",
    "    '_ym_uid': '1724846861543273090',\n",
    "    '_ym_d': '1724846861',\n",
    "    '_ym_visorc': 'w',\n",
    "    '_ym_isad': '2',\n",
    "}\n",
    "\n",
    "headers = {\n",
    "    'accept': 'text/html,application/xhtml+xml,application/xml;q=0.9,image/avif,image/webp,image/apng,*/*;q=0.8,application/signed-exchange;v=b3;q=0.7',\n",
    "    'accept-language': 'ru-RU,ru;q=0.9,en-US;q=0.8,en;q=0.7,de;q=0.6',\n",
    "    # 'cookie': 'SESS0f61e0829bcb8cba96982fad918d55a0=dc85f69769f2960fb34f60113e6a2380; _ga=GA1.1.1384646350.1724846859; _ga_TFSV0MH647=GS1.1.1724846859.1.0.1724846859.60.0.0; _ym_uid=1724846861543273090; _ym_d=1724846861; _ym_visorc=w; _ym_isad=2',\n",
    "    'priority': 'u=0, i',\n",
    "    'referer': 'https://packink.ru/',\n",
    "    'sec-ch-ua': '\"Chromium\";v=\"128\", \"Not;A=Brand\";v=\"24\", \"Google Chrome\";v=\"128\"',\n",
    "    'sec-ch-ua-mobile': '?0',\n",
    "    'sec-ch-ua-platform': '\"Windows\"',\n",
    "    'sec-fetch-dest': 'document',\n",
    "    'sec-fetch-mode': 'navigate',\n",
    "    'sec-fetch-site': 'same-origin',\n",
    "    'sec-fetch-user': '?1',\n",
    "    'upgrade-insecure-requests': '1',\n",
    "    'user-agent': 'Mozilla/5.0 (Windows NT 10.0; Win64; x64) AppleWebKit/537.36 (KHTML, like Gecko) Chrome/128.0.0.0 Safari/537.36',\n",
    "}\n",
    "\n",
    "response = requests.get('https://packink.ru/catalog/universalnaya.html', \n",
    "                        # cookies=cookies, \n",
    "                        # headers=headers\n",
    "                        )\n",
    "response"
   ]
  },
  {
   "cell_type": "code",
   "execution_count": 4,
   "metadata": {},
   "outputs": [],
   "source": [
    "with open('data/test/test.html', 'wb') as f:\n",
    "    f.write(response.content)"
   ]
  }
 ],
 "metadata": {
  "kernelspec": {
   "display_name": "Python 3",
   "language": "python",
   "name": "python3"
  },
  "language_info": {
   "codemirror_mode": {
    "name": "ipython",
    "version": 3
   },
   "file_extension": ".py",
   "mimetype": "text/x-python",
   "name": "python",
   "nbconvert_exporter": "python",
   "pygments_lexer": "ipython3",
   "version": "3.12.2"
  }
 },
 "nbformat": 4,
 "nbformat_minor": 2
}
