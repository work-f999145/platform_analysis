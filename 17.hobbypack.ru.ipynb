{
 "cells": [
  {
   "cell_type": "code",
   "execution_count": null,
   "metadata": {},
   "outputs": [],
   "source": [
    "import pandas as pd\n",
    "import re\n",
    "from bs4 import BeautifulSoup as BS\n",
    "import requests"
   ]
  },
  {
   "cell_type": "code",
   "execution_count": 3,
   "metadata": {},
   "outputs": [
    {
     "data": {
      "text/plain": [
       "<Response [200]>"
      ]
     },
     "execution_count": 3,
     "metadata": {},
     "output_type": "execute_result"
    }
   ],
   "source": [
    "import requests\n",
    "\n",
    "cookies = {\n",
    "    '__ddg1_': 'Jk8e8jjwy4G1yULAMAHz',\n",
    "    'PHPSESSID': '24mW3y40LRlFDwMYlTBrqspYmfyu21CC',\n",
    "    'ASPRO_MAX_USE_MODIFIER': 'Y',\n",
    "    'BITRIX_SM_GUEST_ID': '1229823',\n",
    "    '_ym_uid': '1724847926623869186',\n",
    "    '_ym_d': '1724847926',\n",
    "    '_gid': 'GA1.2.1885390639.1724847926',\n",
    "    '_gat_gtag_UA_68867629_1': '1',\n",
    "    '_ym_debug': '1',\n",
    "    '_ym_isad': '2',\n",
    "    '_ym_visorc': 'w',\n",
    "    'BX_USER_ID': 'a56e41748e543b4d115c2f9d285940c5',\n",
    "    'BITRIX_CONVERSION_CONTEXT_s1': '%7B%22ID%22%3A1%2C%22EXPIRE%22%3A1724878740%2C%22UNIQUE%22%3A%5B%22conversion_visit_day%22%5D%7D',\n",
    "    'BITRIX_SM_LAST_VISIT': '28.08.2024%2015%3A25%3A39',\n",
    "    '_ga_1V7BZ91V3D': 'GS1.1.1724847925.1.1.1724847940.45.0.0',\n",
    "    '_ga': 'GA1.1.185864204.1724847926',\n",
    "    'ab_id': '5bc03edd7dc92dfef6054165678ef2dcb4df80fe',\n",
    "}\n",
    "\n",
    "headers = {\n",
    "    'accept': 'text/html,application/xhtml+xml,application/xml;q=0.9,image/avif,image/webp,image/apng,*/*;q=0.8,application/signed-exchange;v=b3;q=0.7',\n",
    "    'accept-language': 'ru-RU,ru;q=0.9,en-US;q=0.8,en;q=0.7,de;q=0.6',\n",
    "    # 'cookie': '__ddg1_=Jk8e8jjwy4G1yULAMAHz; PHPSESSID=24mW3y40LRlFDwMYlTBrqspYmfyu21CC; ASPRO_MAX_USE_MODIFIER=Y; BITRIX_SM_GUEST_ID=1229823; _ym_uid=1724847926623869186; _ym_d=1724847926; _gid=GA1.2.1885390639.1724847926; _gat_gtag_UA_68867629_1=1; _ym_debug=1; _ym_isad=2; _ym_visorc=w; BX_USER_ID=a56e41748e543b4d115c2f9d285940c5; BITRIX_CONVERSION_CONTEXT_s1=%7B%22ID%22%3A1%2C%22EXPIRE%22%3A1724878740%2C%22UNIQUE%22%3A%5B%22conversion_visit_day%22%5D%7D; BITRIX_SM_LAST_VISIT=28.08.2024%2015%3A25%3A39; _ga_1V7BZ91V3D=GS1.1.1724847925.1.1.1724847940.45.0.0; _ga=GA1.1.185864204.1724847926; ab_id=5bc03edd7dc92dfef6054165678ef2dcb4df80fe',\n",
    "    'priority': 'u=0, i',\n",
    "    'referer': 'https://hobbypack.ru/catalog/',\n",
    "    'sec-ch-ua': '\"Chromium\";v=\"128\", \"Not;A=Brand\";v=\"24\", \"Google Chrome\";v=\"128\"',\n",
    "    'sec-ch-ua-mobile': '?0',\n",
    "    'sec-ch-ua-platform': '\"Windows\"',\n",
    "    'sec-fetch-dest': 'document',\n",
    "    'sec-fetch-mode': 'navigate',\n",
    "    'sec-fetch-site': 'same-origin',\n",
    "    'sec-fetch-user': '?1',\n",
    "    'upgrade-insecure-requests': '1',\n",
    "    'user-agent': 'Mozilla/5.0 (Windows NT 10.0; Win64; x64) AppleWebKit/537.36 (KHTML, like Gecko) Chrome/128.0.0.0 Safari/537.36',\n",
    "}\n",
    "\n",
    "response = requests.get('https://hobbypack.ru/catalog/korobki/', \n",
    "                        # cookies=cookies, \n",
    "                        # headers=headers\n",
    "                        )\n",
    "response"
   ]
  },
  {
   "cell_type": "code",
   "execution_count": 4,
   "metadata": {},
   "outputs": [],
   "source": [
    "with open('data/test/test.html', 'wb') as f:\n",
    "    f.write(response.content)"
   ]
  }
 ],
 "metadata": {
  "kernelspec": {
   "display_name": "Python 3",
   "language": "python",
   "name": "python3"
  },
  "language_info": {
   "codemirror_mode": {
    "name": "ipython",
    "version": 3
   },
   "file_extension": ".py",
   "mimetype": "text/x-python",
   "name": "python",
   "nbconvert_exporter": "python",
   "pygments_lexer": "ipython3",
   "version": "3.12.2"
  }
 },
 "nbformat": 4,
 "nbformat_minor": 2
}
