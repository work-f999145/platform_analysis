{
 "cells": [
  {
   "cell_type": "code",
   "execution_count": null,
   "metadata": {},
   "outputs": [],
   "source": [
    "import pandas as pd\n",
    "import re\n",
    "from bs4 import BeautifulSoup as BS\n",
    "import requests"
   ]
  },
  {
   "cell_type": "code",
   "execution_count": 13,
   "metadata": {},
   "outputs": [
    {
     "data": {
      "text/plain": [
       "<Response [200]>"
      ]
     },
     "execution_count": 13,
     "metadata": {},
     "output_type": "execute_result"
    }
   ],
   "source": [
    "import requests\n",
    "\n",
    "cookies = {\n",
    "    'vid': 'd84f1d87e84ad7411c90bd27018e85ce',\n",
    "    'uh_prev_mod': 'pages',\n",
    "    'uh_prev_url': 'https%3A%2F%2Fwww.gorodpak.ru%2F',\n",
    "    'uh_curr_mod': 'pages',\n",
    "    'uh_curr_url': 'https%3A%2F%2Fwww.gorodpak.ru%2F',\n",
    "    'uz_phn': '0',\n",
    "    '_ga': 'GA1.2.1993932463.1724848612',\n",
    "    '_gid': 'GA1.2.1853301327.1724848612',\n",
    "    '_gat_UA-57227815-1': '1',\n",
    "    '_ym_uid': '1724848612809382552',\n",
    "    '_ym_d': '1724848612',\n",
    "    '_ga_N00EC32WQS': 'GS1.2.1724848612.1.0.1724848612.60.0.0',\n",
    "    '_ym_isad': '2',\n",
    "    '_ym_visorc': 'w',\n",
    "}\n",
    "\n",
    "headers = {\n",
    "    # 'Accept': 'text/html,application/xhtml+xml,application/xml;q=0.9,image/avif,image/webp,image/apng,*/*;q=0.8,application/signed-exchange;v=b3;q=0.7',\n",
    "    # 'Accept-Language': 'ru-RU,ru;q=0.9,en-US;q=0.8,en;q=0.7,de;q=0.6',\n",
    "    # 'Connection': 'keep-alive',\n",
    "    # 'Referer': 'https://www.gorodpak.ru/',\n",
    "    # 'Sec-Fetch-Dest': 'document',\n",
    "    # 'Sec-Fetch-Mode': 'navigate',\n",
    "    # 'Sec-Fetch-Site': 'same-origin',\n",
    "    # 'Sec-Fetch-User': '?1',\n",
    "    # 'Upgrade-Insecure-Requests': '1',\n",
    "    'User-Agent': 'Mozilla/5.0 (Windows NT 10.0; Win64; x64) AppleWebKit/537.36 (KHTML, like Gecko) Chrome/128.0.0.0 Safari/537.36',\n",
    "    # 'sec-ch-ua': '\"Chromium\";v=\"128\", \"Not;A=Brand\";v=\"24\", \"Google Chrome\";v=\"128\"',\n",
    "    # 'sec-ch-ua-mobile': '?0',\n",
    "    # 'sec-ch-ua-platform': '\"Windows\"',\n",
    "}\n",
    "\n",
    "response = requests.get(\n",
    "    'https://www.gorodpak.ru/katalog/products/korobki/gotovye-korobki-na-sklade',\n",
    "    # cookies=cookies,\n",
    "    headers=headers,\n",
    ")\n",
    "response"
   ]
  },
  {
   "cell_type": "code",
   "execution_count": 14,
   "metadata": {},
   "outputs": [],
   "source": [
    "with open('data/test/test.html', 'wb') as f:\n",
    "    f.write(response.content)"
   ]
  }
 ],
 "metadata": {
  "kernelspec": {
   "display_name": "Python 3",
   "language": "python",
   "name": "python3"
  },
  "language_info": {
   "codemirror_mode": {
    "name": "ipython",
    "version": 3
   },
   "file_extension": ".py",
   "mimetype": "text/x-python",
   "name": "python",
   "nbconvert_exporter": "python",
   "pygments_lexer": "ipython3",
   "version": "3.12.2"
  }
 },
 "nbformat": 4,
 "nbformat_minor": 2
}
