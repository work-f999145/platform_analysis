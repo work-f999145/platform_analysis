{
 "cells": [
  {
   "cell_type": "code",
   "execution_count": null,
   "metadata": {},
   "outputs": [],
   "source": [
    "import pandas as pd\n",
    "import re\n",
    "from bs4 import BeautifulSoup as BS\n",
    "import requests"
   ]
  },
  {
   "cell_type": "code",
   "execution_count": 2,
   "metadata": {},
   "outputs": [
    {
     "data": {
      "text/plain": [
       "<Response [200]>"
      ]
     },
     "execution_count": 2,
     "metadata": {},
     "output_type": "execute_result"
    }
   ],
   "source": [
    "import requests\n",
    "\n",
    "cookies = {\n",
    "    'webp_support': '1',\n",
    "    'PHPSESSID': '233c6521a74d11f7b7c5b6d7c14aa8a4',\n",
    "    'language': 'ru-ru',\n",
    "    'li_nr': '1',\n",
    "    'tmr_lvid': 'c95c910b8ecbe3344b7dfa74574433d0',\n",
    "    'tmr_lvidTS': '1724844580092',\n",
    "    'domain_sid': '8vwZnHQSZHE17VvQPekcA%3A1724844580211',\n",
    "    'default': '233c6521a74d11f7b7c5b6d7c14aa8a4',\n",
    "    'currency': 'RUB',\n",
    "    'ckeeper': '233c6521a74d11f7b7c5b6d7c14aa8a4',\n",
    "    '_ym_uid': '1724844581647284700',\n",
    "    '_ym_d': '1724844581',\n",
    "    '_ga': 'GA1.1.449247755.1724844581',\n",
    "    '_ym_isad': '2',\n",
    "    '_ym_visorc': 'w',\n",
    "    '_ga_01P2C1DC42': 'GS1.1.1724844580.1.1.1724844592.0.0.0',\n",
    "    'tmr_detect': '0%7C1724844595240',\n",
    "}\n",
    "\n",
    "headers = {\n",
    "    'accept': 'text/html,application/xhtml+xml,application/xml;q=0.9,image/avif,image/webp,image/apng,*/*;q=0.8,application/signed-exchange;v=b3;q=0.7',\n",
    "    'accept-language': 'ru-RU,ru;q=0.9,en-US;q=0.8,en;q=0.7,de;q=0.6',\n",
    "    # 'cookie': 'webp_support=1; PHPSESSID=233c6521a74d11f7b7c5b6d7c14aa8a4; language=ru-ru; li_nr=1; tmr_lvid=c95c910b8ecbe3344b7dfa74574433d0; tmr_lvidTS=1724844580092; domain_sid=8vwZnHQSZHE17VvQPekcA%3A1724844580211; default=233c6521a74d11f7b7c5b6d7c14aa8a4; currency=RUB; ckeeper=233c6521a74d11f7b7c5b6d7c14aa8a4; _ym_uid=1724844581647284700; _ym_d=1724844581; _ga=GA1.1.449247755.1724844581; _ym_isad=2; _ym_visorc=w; _ga_01P2C1DC42=GS1.1.1724844580.1.1.1724844592.0.0.0; tmr_detect=0%7C1724844595240',\n",
    "    'priority': 'u=0, i',\n",
    "    'referer': 'https://mkfgroup.ru/kartonnyie-korobki/',\n",
    "    'sec-ch-ua': '\"Chromium\";v=\"128\", \"Not;A=Brand\";v=\"24\", \"Google Chrome\";v=\"128\"',\n",
    "    'sec-ch-ua-mobile': '?0',\n",
    "    'sec-ch-ua-platform': '\"Windows\"',\n",
    "    'sec-fetch-dest': 'document',\n",
    "    'sec-fetch-mode': 'navigate',\n",
    "    'sec-fetch-site': 'same-origin',\n",
    "    'sec-fetch-user': '?1',\n",
    "    'upgrade-insecure-requests': '1',\n",
    "    'user-agent': 'Mozilla/5.0 (Windows NT 10.0; Win64; x64) AppleWebKit/537.36 (KHTML, like Gecko) Chrome/128.0.0.0 Safari/537.36',\n",
    "}\n",
    "\n",
    "params = {\n",
    "    'page': '2',\n",
    "}\n",
    "\n",
    "response = requests.get('https://mkfgroup.ru/kartonnyie-korobki/', \n",
    "                        params=params, \n",
    "                        # cookies=cookies, \n",
    "                        # headers=headers\n",
    "                        )\n",
    "response"
   ]
  },
  {
   "cell_type": "code",
   "execution_count": 3,
   "metadata": {},
   "outputs": [],
   "source": [
    "with open('data/test/test.html', 'wb') as f:\n",
    "    f.write(response.content)"
   ]
  }
 ],
 "metadata": {
  "kernelspec": {
   "display_name": "Python 3",
   "language": "python",
   "name": "python3"
  },
  "language_info": {
   "codemirror_mode": {
    "name": "ipython",
    "version": 3
   },
   "file_extension": ".py",
   "mimetype": "text/x-python",
   "name": "python",
   "nbconvert_exporter": "python",
   "pygments_lexer": "ipython3",
   "version": "3.12.2"
  }
 },
 "nbformat": 4,
 "nbformat_minor": 2
}
