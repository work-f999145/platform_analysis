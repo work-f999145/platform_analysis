{
 "cells": [
  {
   "cell_type": "code",
   "execution_count": null,
   "metadata": {},
   "outputs": [],
   "source": [
    "import pandas as pd\n",
    "import re\n",
    "from bs4 import BeautifulSoup as BS\n",
    "import requests"
   ]
  },
  {
   "cell_type": "code",
   "execution_count": 1,
   "metadata": {},
   "outputs": [
    {
     "data": {
      "text/plain": [
       "<Response [200]>"
      ]
     },
     "execution_count": 1,
     "metadata": {},
     "output_type": "execute_result"
    }
   ],
   "source": [
    "import requests\n",
    "\n",
    "cookies = {\n",
    "    'd04a2686950528c43c265b84c0488fc0': 'b3187121f467387de0f8d0019f9e1ea5',\n",
    "    '_ga_P2QM48FZ4K': 'GS1.1.1724849258.1.1.1724849258.60.0.195652840',\n",
    "    '_ym_uid': '1724849258156061066',\n",
    "    '_ym_d': '1724849258',\n",
    "    '_ga': 'GA1.2.236857943.1724849258',\n",
    "    '_gid': 'GA1.2.826018726.1724849258',\n",
    "    '_gat_gtag_UA_121049013_1': '1',\n",
    "    '_ym_isad': '2',\n",
    "    '_ym_visorc': 'w',\n",
    "}\n",
    "\n",
    "headers = {\n",
    "    'accept': 'text/html,application/xhtml+xml,application/xml;q=0.9,image/avif,image/webp,image/apng,*/*;q=0.8,application/signed-exchange;v=b3;q=0.7',\n",
    "    'accept-language': 'ru-RU,ru;q=0.9,en-US;q=0.8,en;q=0.7,de;q=0.6',\n",
    "    # 'cookie': 'd04a2686950528c43c265b84c0488fc0=b3187121f467387de0f8d0019f9e1ea5; _ga_P2QM48FZ4K=GS1.1.1724849258.1.1.1724849258.60.0.195652840; _ym_uid=1724849258156061066; _ym_d=1724849258; _ga=GA1.2.236857943.1724849258; _gid=GA1.2.826018726.1724849258; _gat_gtag_UA_121049013_1=1; _ym_isad=2; _ym_visorc=w',\n",
    "    'priority': 'u=0, i',\n",
    "    'referer': 'https://korobkoff.ru/',\n",
    "    'sec-ch-ua': '\"Chromium\";v=\"128\", \"Not;A=Brand\";v=\"24\", \"Google Chrome\";v=\"128\"',\n",
    "    'sec-ch-ua-mobile': '?0',\n",
    "    'sec-ch-ua-platform': '\"Windows\"',\n",
    "    'sec-fetch-dest': 'document',\n",
    "    'sec-fetch-mode': 'navigate',\n",
    "    'sec-fetch-site': 'same-origin',\n",
    "    'sec-fetch-user': '?1',\n",
    "    'upgrade-insecure-requests': '1',\n",
    "    'user-agent': 'Mozilla/5.0 (Windows NT 10.0; Win64; x64) AppleWebKit/537.36 (KHTML, like Gecko) Chrome/128.0.0.0 Safari/537.36',\n",
    "}\n",
    "\n",
    "response = requests.get('https://korobkoff.ru/kartonnye-korobki', \n",
    "                        # cookies=cookies, \n",
    "                        # headers=headers\n",
    "                        )\n",
    "response"
   ]
  },
  {
   "cell_type": "code",
   "execution_count": 2,
   "metadata": {},
   "outputs": [],
   "source": [
    "with open('data/test/test.html', 'wb') as f:\n",
    "    f.write(response.content)"
   ]
  }
 ],
 "metadata": {
  "kernelspec": {
   "display_name": "Python 3",
   "language": "python",
   "name": "python3"
  },
  "language_info": {
   "codemirror_mode": {
    "name": "ipython",
    "version": 3
   },
   "file_extension": ".py",
   "mimetype": "text/x-python",
   "name": "python",
   "nbconvert_exporter": "python",
   "pygments_lexer": "ipython3",
   "version": "3.12.2"
  }
 },
 "nbformat": 4,
 "nbformat_minor": 2
}
