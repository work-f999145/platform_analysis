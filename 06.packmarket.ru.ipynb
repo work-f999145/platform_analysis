{
 "cells": [
  {
   "cell_type": "code",
   "execution_count": null,
   "metadata": {},
   "outputs": [],
   "source": [
    "import pandas as pd\n",
    "import re\n",
    "from bs4 import BeautifulSoup as BS\n",
    "import requests"
   ]
  },
  {
   "cell_type": "code",
   "execution_count": 3,
   "metadata": {},
   "outputs": [
    {
     "data": {
      "text/plain": [
       "<Response [200]>"
      ]
     },
     "execution_count": 3,
     "metadata": {},
     "output_type": "execute_result"
    }
   ],
   "source": [
    "import requests\n",
    "\n",
    "cookies = {\n",
    "    'PHPSESSID': '1QIE8wbzspn4Knu3zLIASwbDE6Vz3gmi',\n",
    "    '_ym_uid': '1724830978764802317',\n",
    "    '_ym_d': '1724830978',\n",
    "    '_ga': 'GA1.1.1016983218.1724830978',\n",
    "    '_ym_visorc': 'w',\n",
    "    'BITRIX_CONVERSION_CONTEXT_s1': '%7B%22ID%22%3A1%2C%22EXPIRE%22%3A1724878740%2C%22UNIQUE%22%3A%5B%22conversion_visit_day%22%5D%7D',\n",
    "    '_ym_isad': '2',\n",
    "    'BX_USER_ID': 'a56e41748e543b4d115c2f9d285940c5',\n",
    "    'WhiteCallback_visitorId': '17574881896',\n",
    "    'WhiteCallback_visit': '28011353605',\n",
    "    'WhiteSaas_uniqueLead': 'no',\n",
    "    'WhiteCallback_openedPages': 'ZKLxV',\n",
    "    'WhiteQuiz_noShowWindow': '1',\n",
    "    '_ga_3CNSRD56JL': 'GS1.1.1724830978.1.0.1724831036.2.0.0',\n",
    "    'WhiteCallback_timeAll': '56',\n",
    "    'WhiteCallback_timePage': '56',\n",
    "}\n",
    "\n",
    "headers = {\n",
    "    'accept': 'text/html,application/xhtml+xml,application/xml;q=0.9,image/avif,image/webp,image/apng,*/*;q=0.8,application/signed-exchange;v=b3;q=0.7',\n",
    "    'accept-language': 'ru-RU,ru;q=0.9,en-US;q=0.8,en;q=0.7,de;q=0.6',\n",
    "    # 'cookie': 'PHPSESSID=1QIE8wbzspn4Knu3zLIASwbDE6Vz3gmi; _ym_uid=1724830978764802317; _ym_d=1724830978; _ga=GA1.1.1016983218.1724830978; _ym_visorc=w; BITRIX_CONVERSION_CONTEXT_s1=%7B%22ID%22%3A1%2C%22EXPIRE%22%3A1724878740%2C%22UNIQUE%22%3A%5B%22conversion_visit_day%22%5D%7D; _ym_isad=2; BX_USER_ID=a56e41748e543b4d115c2f9d285940c5; WhiteCallback_visitorId=17574881896; WhiteCallback_visit=28011353605; WhiteSaas_uniqueLead=no; WhiteCallback_openedPages=ZKLxV; WhiteQuiz_noShowWindow=1; _ga_3CNSRD56JL=GS1.1.1724830978.1.0.1724831036.2.0.0; WhiteCallback_timeAll=56; WhiteCallback_timePage=56',\n",
    "    'priority': 'u=0, i',\n",
    "    'referer': 'https://packmarket.ru/',\n",
    "    'sec-ch-ua': '\"Chromium\";v=\"128\", \"Not;A=Brand\";v=\"24\", \"Google Chrome\";v=\"128\"',\n",
    "    'sec-ch-ua-mobile': '?0',\n",
    "    'sec-ch-ua-platform': '\"Windows\"',\n",
    "    'sec-fetch-dest': 'document',\n",
    "    'sec-fetch-mode': 'navigate',\n",
    "    'sec-fetch-site': 'same-origin',\n",
    "    'sec-fetch-user': '?1',\n",
    "    'upgrade-insecure-requests': '1',\n",
    "    'user-agent': 'Mozilla/5.0 (Windows NT 10.0; Win64; x64) AppleWebKit/537.36 (KHTML, like Gecko) Chrome/128.0.0.0 Safari/537.36',\n",
    "}\n",
    "\n",
    "response = requests.get(\n",
    "    'https://packmarket.ru/catalog/kartonnye-korobki/chetyryekhklapannye-korobki/',\n",
    "    # cookies=cookies,\n",
    "    # headers=headers,\n",
    ")\n",
    "response"
   ]
  },
  {
   "cell_type": "code",
   "execution_count": 4,
   "metadata": {},
   "outputs": [],
   "source": [
    "with open('data/test/test.html', 'wb') as f:\n",
    "    f.write(response.content)"
   ]
  }
 ],
 "metadata": {
  "kernelspec": {
   "display_name": "Python 3",
   "language": "python",
   "name": "python3"
  },
  "language_info": {
   "codemirror_mode": {
    "name": "ipython",
    "version": 3
   },
   "file_extension": ".py",
   "mimetype": "text/x-python",
   "name": "python",
   "nbconvert_exporter": "python",
   "pygments_lexer": "ipython3",
   "version": "3.12.2"
  }
 },
 "nbformat": 4,
 "nbformat_minor": 2
}
