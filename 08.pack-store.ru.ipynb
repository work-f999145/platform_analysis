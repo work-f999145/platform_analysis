{
 "cells": [
  {
   "cell_type": "code",
   "execution_count": null,
   "metadata": {},
   "outputs": [],
   "source": [
    "import pandas as pd\n",
    "import re\n",
    "from bs4 import BeautifulSoup as BS\n",
    "import requests"
   ]
  },
  {
   "cell_type": "code",
   "execution_count": 12,
   "metadata": {},
   "outputs": [
    {
     "data": {
      "text/plain": [
       "<Response [200]>"
      ]
     },
     "execution_count": 12,
     "metadata": {},
     "output_type": "execute_result"
    }
   ],
   "source": [
    "import requests\n",
    "\n",
    "cookies = {\n",
    "    'tmr_lvid': '9910c23a8eb37405aa5e9ea0a70533e6',\n",
    "    'tmr_lvidTS': '1724841004182',\n",
    "    'domain_sid': '4YdcpYJvU0ERGTYyTWxQO%3A1724841004269',\n",
    "    'PHPSESSID': 'dKT1aZy6SXKWS0IYK7orZglAOuIB9p55',\n",
    "    'BITRIX_SM_GUEST_ID': '7357365',\n",
    "    'BITRIX_SM_TECHDIR_LOCATION_ID': '196497',\n",
    "    'BITRIX_CONVERSION_CONTEXT_s1': '%7B%22ID%22%3A1%2C%22EXPIRE%22%3A1724878740%2C%22UNIQUE%22%3A%5B%22conversion_visit_day%22%5D%7D',\n",
    "    'mgo_sb_migrations': '1418474375998%253D1',\n",
    "    'mgo_sb_current': 'typ%253Dtypein%257C%252A%257Csrc%253D%2528direct%2529%257C%252A%257Cmdm%253D%2528none%2529%257C%252A%257Ccmp%253D%2528none%2529%257C%252A%257Ccnt%253D%2528none%2529%257C%252A%257Ctrm%253D%2528none%2529%257C%252A%257Cmango%253D%2528none%2529',\n",
    "    'mgo_sb_first': 'typ%253Dtypein%257C%252A%257Csrc%253D%2528direct%2529%257C%252A%257Cmdm%253D%2528none%2529%257C%252A%257Ccmp%253D%2528none%2529%257C%252A%257Ccnt%253D%2528none%2529%257C%252A%257Ctrm%253D%2528none%2529%257C%252A%257Cmango%253D%2528none%2529',\n",
    "    'mgo_uid': 'qmKqbl0c2lU41ryAZF0Z',\n",
    "    'mgo_cnt': '1',\n",
    "    'mgo_sid': 'xtcbsixbu511001flrm9',\n",
    "    'BITRIX_SM_LAST_VISIT': '28.08.2024%2013%3A30%3A04',\n",
    "    '_ym_uid': '172484100567065467',\n",
    "    '_ym_d': '1724841005',\n",
    "    '_ga': 'GA1.2.1296429373.1724841005',\n",
    "    '_gid': 'GA1.2.984694240.1724841005',\n",
    "    '_ym_isad': '2',\n",
    "    'roistat_visit': '138479',\n",
    "    'roistat_first_visit': '138479',\n",
    "    'roistat_visit_cookie_expire': '1209600',\n",
    "    'roistat_is_need_listen_requests': '0',\n",
    "    'roistat_is_save_data_in_cookie': '1',\n",
    "    '_pk_id.5712.4f67': '2b0fd64225c105b3.1724841005.',\n",
    "    'tmr_detect': '0%7C1724841006896',\n",
    "    '___dc': '6b82e3d7-c20d-48d1-ae8a-650e3574231e',\n",
    "    '_ga_J5XTVFPSX5': 'GS1.1.1724841004.1.0.1724841144.60.0.0',\n",
    "    'roistat_call_tracking': '0',\n",
    "    'roistat_emailtracking_email': 'null',\n",
    "    'roistat_emailtracking_tracking_email': 'null',\n",
    "    'roistat_emailtracking_emails': 'null',\n",
    "    'roistat_cookies_to_resave': 'roistat_ab%2Croistat_ab_submit%2Croistat_visit%2Croistat_call_tracking%2Croistat_emailtracking_email%2Croistat_emailtracking_tracking_email%2Croistat_emailtracking_emails',\n",
    "}\n",
    "\n",
    "headers = {\n",
    "    'Accept': 'text/html,application/xhtml+xml,application/xml;q=0.9,image/avif,image/webp,image/apng,*/*;q=0.8,application/signed-exchange;v=b3;q=0.7',\n",
    "    'Accept-Language': 'ru-RU,ru;q=0.9,en-US;q=0.8,en;q=0.7,de;q=0.6',\n",
    "    'Connection': 'keep-alive',\n",
    "    # 'Cookie': 'tmr_lvid=9910c23a8eb37405aa5e9ea0a70533e6; tmr_lvidTS=1724841004182; domain_sid=4YdcpYJvU0ERGTYyTWxQO%3A1724841004269; PHPSESSID=dKT1aZy6SXKWS0IYK7orZglAOuIB9p55; BITRIX_SM_GUEST_ID=7357365; BITRIX_SM_TECHDIR_LOCATION_ID=196497; BITRIX_CONVERSION_CONTEXT_s1=%7B%22ID%22%3A1%2C%22EXPIRE%22%3A1724878740%2C%22UNIQUE%22%3A%5B%22conversion_visit_day%22%5D%7D; mgo_sb_migrations=1418474375998%253D1; mgo_sb_current=typ%253Dtypein%257C%252A%257Csrc%253D%2528direct%2529%257C%252A%257Cmdm%253D%2528none%2529%257C%252A%257Ccmp%253D%2528none%2529%257C%252A%257Ccnt%253D%2528none%2529%257C%252A%257Ctrm%253D%2528none%2529%257C%252A%257Cmango%253D%2528none%2529; mgo_sb_first=typ%253Dtypein%257C%252A%257Csrc%253D%2528direct%2529%257C%252A%257Cmdm%253D%2528none%2529%257C%252A%257Ccmp%253D%2528none%2529%257C%252A%257Ccnt%253D%2528none%2529%257C%252A%257Ctrm%253D%2528none%2529%257C%252A%257Cmango%253D%2528none%2529; mgo_uid=qmKqbl0c2lU41ryAZF0Z; mgo_cnt=1; mgo_sid=xtcbsixbu511001flrm9; BITRIX_SM_LAST_VISIT=28.08.2024%2013%3A30%3A04; _ym_uid=172484100567065467; _ym_d=1724841005; _ga=GA1.2.1296429373.1724841005; _gid=GA1.2.984694240.1724841005; _ym_isad=2; roistat_visit=138479; roistat_first_visit=138479; roistat_visit_cookie_expire=1209600; roistat_is_need_listen_requests=0; roistat_is_save_data_in_cookie=1; _pk_id.5712.4f67=2b0fd64225c105b3.1724841005.; tmr_detect=0%7C1724841006896; ___dc=6b82e3d7-c20d-48d1-ae8a-650e3574231e; _ga_J5XTVFPSX5=GS1.1.1724841004.1.0.1724841144.60.0.0; roistat_call_tracking=0; roistat_emailtracking_email=null; roistat_emailtracking_tracking_email=null; roistat_emailtracking_emails=null; roistat_cookies_to_resave=roistat_ab%2Croistat_ab_submit%2Croistat_visit%2Croistat_call_tracking%2Croistat_emailtracking_email%2Croistat_emailtracking_tracking_email%2Croistat_emailtracking_emails',\n",
    "    'Referer': 'https://pack-store.ru/',\n",
    "    'Sec-Fetch-Dest': 'document',\n",
    "    'Sec-Fetch-Mode': 'navigate',\n",
    "    'Sec-Fetch-Site': 'same-origin',\n",
    "    'Sec-Fetch-User': '?1',\n",
    "    'Upgrade-Insecure-Requests': '1',\n",
    "    'User-Agent': 'Mozilla/5.0 (Windows NT 10.0; Win64; x64) AppleWebKit/537.36 (KHTML, like Gecko) Chrome/128.0.0.0 Safari/537.36',\n",
    "    'sec-ch-ua': '\"Chromium\";v=\"128\", \"Not;A=Brand\";v=\"24\", \"Google Chrome\";v=\"128\"',\n",
    "    'sec-ch-ua-mobile': '?0',\n",
    "    'sec-ch-ua-platform': '\"Windows\"',\n",
    "}\n",
    "\n",
    "response = requests.get('https://pack-store.ru/box-bolshie/', \n",
    "                        # cookies=cookies, \n",
    "                        # headers=headers,\n",
    "                        \n",
    "                        )\n",
    "response"
   ]
  },
  {
   "cell_type": "code",
   "execution_count": 13,
   "metadata": {},
   "outputs": [],
   "source": [
    "with open('data/test/test.html', 'w', encoding='utf-8') as f:\n",
    "    f.write(response.text)"
   ]
  }
 ],
 "metadata": {
  "kernelspec": {
   "display_name": "Python 3",
   "language": "python",
   "name": "python3"
  },
  "language_info": {
   "codemirror_mode": {
    "name": "ipython",
    "version": 3
   },
   "file_extension": ".py",
   "mimetype": "text/x-python",
   "name": "python",
   "nbconvert_exporter": "python",
   "pygments_lexer": "ipython3",
   "version": "3.12.2"
  }
 },
 "nbformat": 4,
 "nbformat_minor": 2
}
