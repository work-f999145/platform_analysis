{
 "cells": [
  {
   "cell_type": "code",
   "execution_count": null,
   "metadata": {},
   "outputs": [],
   "source": [
    "import pandas as pd\n",
    "import re\n",
    "from bs4 import BeautifulSoup as BS\n",
    "import requests"
   ]
  },
  {
   "cell_type": "code",
   "execution_count": 3,
   "metadata": {},
   "outputs": [
    {
     "data": {
      "text/plain": [
       "<Response [200]>"
      ]
     },
     "execution_count": 3,
     "metadata": {},
     "output_type": "execute_result"
    }
   ],
   "source": [
    "import requests\n",
    "\n",
    "cookies = {\n",
    "    'OCSESSID': '103817531931b82e5611c7c9a4',\n",
    "    'prmn_fias': '2749',\n",
    "    'language': 'ru-ru',\n",
    "    'currency': 'RUB',\n",
    "    '_ym_uid': '1724843858871918413',\n",
    "    '_ym_d': '1724843858',\n",
    "    '_ym_isad': '2',\n",
    "    '_ym_visorc': 'w',\n",
    "    '_gid': 'GA1.2.845934600.1724843858',\n",
    "    '_gat_gtag_UA_56949271_1': '1',\n",
    "    '_ga': 'GA1.1.449711847.1724843858',\n",
    "    '_ga_0WL9N1HCV2': 'GS1.1.1724843858.1.1.1724843888.30.0.0',\n",
    "}\n",
    "\n",
    "headers = {\n",
    "    'accept': 'text/html,application/xhtml+xml,application/xml;q=0.9,image/avif,image/webp,image/apng,*/*;q=0.8,application/signed-exchange;v=b3;q=0.7',\n",
    "    'accept-language': 'ru-RU,ru;q=0.9,en-US;q=0.8,en;q=0.7,de;q=0.6',\n",
    "    # 'cookie': 'OCSESSID=103817531931b82e5611c7c9a4; prmn_fias=2749; language=ru-ru; currency=RUB; _ym_uid=1724843858871918413; _ym_d=1724843858; _ym_isad=2; _ym_visorc=w; _gid=GA1.2.845934600.1724843858; _gat_gtag_UA_56949271_1=1; _ga=GA1.1.449711847.1724843858; _ga_0WL9N1HCV2=GS1.1.1724843858.1.1.1724843888.30.0.0',\n",
    "    'priority': 'u=0, i',\n",
    "    'referer': 'https://axelpack.ru/kupit-gofrokarton/belyj',\n",
    "    'sec-ch-ua': '\"Chromium\";v=\"128\", \"Not;A=Brand\";v=\"24\", \"Google Chrome\";v=\"128\"',\n",
    "    'sec-ch-ua-mobile': '?0',\n",
    "    'sec-ch-ua-platform': '\"Windows\"',\n",
    "    'sec-fetch-dest': 'document',\n",
    "    'sec-fetch-mode': 'navigate',\n",
    "    'sec-fetch-site': 'same-origin',\n",
    "    'sec-fetch-user': '?1',\n",
    "    'upgrade-insecure-requests': '1',\n",
    "    'user-agent': 'Mozilla/5.0 (Windows NT 10.0; Win64; x64) AppleWebKit/537.36 (KHTML, like Gecko) Chrome/128.0.0.0 Safari/537.36',\n",
    "}\n",
    "\n",
    "response = requests.get('https://axelpack.ru/kupit-gofrokarton/dvyhsloiniy-gofrokarton', \n",
    "                        # cookies=cookies, \n",
    "                        # headers=headers\n",
    "                        )\n",
    "response"
   ]
  },
  {
   "cell_type": "code",
   "execution_count": 4,
   "metadata": {},
   "outputs": [],
   "source": [
    "with open('data/test/test.html', 'wb') as f:\n",
    "    f.write(response.content)"
   ]
  }
 ],
 "metadata": {
  "kernelspec": {
   "display_name": "Python 3",
   "language": "python",
   "name": "python3"
  },
  "language_info": {
   "codemirror_mode": {
    "name": "ipython",
    "version": 3
   },
   "file_extension": ".py",
   "mimetype": "text/x-python",
   "name": "python",
   "nbconvert_exporter": "python",
   "pygments_lexer": "ipython3",
   "version": "3.12.2"
  }
 },
 "nbformat": 4,
 "nbformat_minor": 2
}
