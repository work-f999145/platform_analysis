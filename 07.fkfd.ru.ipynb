{
 "cells": [
  {
   "cell_type": "code",
   "execution_count": 2,
   "metadata": {},
   "outputs": [],
   "source": [
    "import pandas as pd\n",
    "import re\n",
    "from bs4 import BeautifulSoup as BS\n",
    "import requests"
   ]
  },
  {
   "cell_type": "code",
   "execution_count": 5,
   "metadata": {},
   "outputs": [
    {
     "data": {
      "text/plain": [
       "<Response [200]>"
      ]
     },
     "execution_count": 5,
     "metadata": {},
     "output_type": "execute_result"
    }
   ],
   "source": [
    "import requests\n",
    "\n",
    "cookies = {\n",
    "    'PHPSESSID': 'NPAOhksfIqRAi0ujjWYR5A8ZAJKzNszL',\n",
    "    'FKFD_QL_DEFAULT_LOCATION': 'a%3A5%3A%7Bs%3A2%3A%22ID%22%3Bs%3A4%3A%221495%22%3Bs%3A9%3A%22IBLOCK_ID%22%3Bs%3A2%3A%2210%22%3Bs%3A4%3A%22NAME%22%3Bs%3A12%3A%22%D0%9C%D0%BE%D1%81%D0%BA%D0%B2%D0%B0%22%3Bs%3A17%3A%22IBLOCK_SECTION_ID%22%3BN%3Bs%3A11%3A%22LOCATION_ID%22%3Bs%3A2%3A%2284%22%3B%7D',\n",
    "    'FKFD_QL_USER_LOCATION': 'a%3A5%3A%7Bs%3A2%3A%22ID%22%3Bs%3A4%3A%221495%22%3Bs%3A9%3A%22IBLOCK_ID%22%3Bs%3A2%3A%2210%22%3Bs%3A4%3A%22NAME%22%3Bs%3A12%3A%22%D0%9C%D0%BE%D1%81%D0%BA%D0%B2%D0%B0%22%3Bs%3A17%3A%22IBLOCK_SECTION_ID%22%3BN%3Bs%3A11%3A%22LOCATION_ID%22%3Bs%3A2%3A%2284%22%3B%7D',\n",
    "    'mgo_sb_migrations': '1418474375998%253D1',\n",
    "    'mgo_sb_current': 'typ%253Dtypein%257C%252A%257Csrc%253D%2528direct%2529%257C%252A%257Cmdm%253D%2528none%2529%257C%252A%257Ccmp%253D%2528none%2529%257C%252A%257Ccnt%253D%2528none%2529%257C%252A%257Ctrm%253D%2528none%2529%257C%252A%257Cmango%253D%2528none%2529',\n",
    "    'mgo_sb_first': 'typ%253Dtypein%257C%252A%257Csrc%253D%2528direct%2529%257C%252A%257Cmdm%253D%2528none%2529%257C%252A%257Ccmp%253D%2528none%2529%257C%252A%257Ccnt%253D%2528none%2529%257C%252A%257Ctrm%253D%2528none%2529%257C%252A%257Cmango%253D%2528none%2529',\n",
    "    'mgo_uid': '8E3ou0ZUUqU96fQm95tX',\n",
    "    'mgo_cnt': '1',\n",
    "    'mgo_sid': 'uvbwsix4c711001ntipg',\n",
    "    '_gcl_au': '1.1.443528827.1724831287',\n",
    "    '_ga_Z3BBLY7KJR': 'GS1.1.1724831287.1.0.1724831287.60.0.0',\n",
    "    '_ga': 'GA1.2.1518658370.1724831287',\n",
    "    '_gid': 'GA1.2.248937746.1724831287',\n",
    "    '_gat_gtag_UA_115007995_2': '1',\n",
    "    'mgo_sb_session': 'pgs%253D2%257C%252A%257Ccpg%253Dhttps%253A%252F%252Ffkfd.ru%252F',\n",
    "    '_ym_uid': '1724831288291994396',\n",
    "    '_ym_d': '1724831288',\n",
    "    '_ym_isad': '2',\n",
    "    '_ym_visorc': 'w',\n",
    "    'BITRIX_CONVERSION_CONTEXT_s1': '%7B%22ID%22%3A2%2C%22EXPIRE%22%3A1724878740%2C%22UNIQUE%22%3A%5B%22conversion_visit_day%22%5D%7D',\n",
    "}\n",
    "\n",
    "headers = {\n",
    "    'accept': 'text/html,application/xhtml+xml,application/xml;q=0.9,image/avif,image/webp,image/apng,*/*;q=0.8,application/signed-exchange;v=b3;q=0.7',\n",
    "    'accept-language': 'ru-RU,ru;q=0.9,en-US;q=0.8,en;q=0.7,de;q=0.6',\n",
    "    # 'cookie': 'PHPSESSID=NPAOhksfIqRAi0ujjWYR5A8ZAJKzNszL; FKFD_QL_DEFAULT_LOCATION=a%3A5%3A%7Bs%3A2%3A%22ID%22%3Bs%3A4%3A%221495%22%3Bs%3A9%3A%22IBLOCK_ID%22%3Bs%3A2%3A%2210%22%3Bs%3A4%3A%22NAME%22%3Bs%3A12%3A%22%D0%9C%D0%BE%D1%81%D0%BA%D0%B2%D0%B0%22%3Bs%3A17%3A%22IBLOCK_SECTION_ID%22%3BN%3Bs%3A11%3A%22LOCATION_ID%22%3Bs%3A2%3A%2284%22%3B%7D; FKFD_QL_USER_LOCATION=a%3A5%3A%7Bs%3A2%3A%22ID%22%3Bs%3A4%3A%221495%22%3Bs%3A9%3A%22IBLOCK_ID%22%3Bs%3A2%3A%2210%22%3Bs%3A4%3A%22NAME%22%3Bs%3A12%3A%22%D0%9C%D0%BE%D1%81%D0%BA%D0%B2%D0%B0%22%3Bs%3A17%3A%22IBLOCK_SECTION_ID%22%3BN%3Bs%3A11%3A%22LOCATION_ID%22%3Bs%3A2%3A%2284%22%3B%7D; mgo_sb_migrations=1418474375998%253D1; mgo_sb_current=typ%253Dtypein%257C%252A%257Csrc%253D%2528direct%2529%257C%252A%257Cmdm%253D%2528none%2529%257C%252A%257Ccmp%253D%2528none%2529%257C%252A%257Ccnt%253D%2528none%2529%257C%252A%257Ctrm%253D%2528none%2529%257C%252A%257Cmango%253D%2528none%2529; mgo_sb_first=typ%253Dtypein%257C%252A%257Csrc%253D%2528direct%2529%257C%252A%257Cmdm%253D%2528none%2529%257C%252A%257Ccmp%253D%2528none%2529%257C%252A%257Ccnt%253D%2528none%2529%257C%252A%257Ctrm%253D%2528none%2529%257C%252A%257Cmango%253D%2528none%2529; mgo_uid=8E3ou0ZUUqU96fQm95tX; mgo_cnt=1; mgo_sid=uvbwsix4c711001ntipg; _gcl_au=1.1.443528827.1724831287; _ga_Z3BBLY7KJR=GS1.1.1724831287.1.0.1724831287.60.0.0; _ga=GA1.2.1518658370.1724831287; _gid=GA1.2.248937746.1724831287; _gat_gtag_UA_115007995_2=1; mgo_sb_session=pgs%253D2%257C%252A%257Ccpg%253Dhttps%253A%252F%252Ffkfd.ru%252F; _ym_uid=1724831288291994396; _ym_d=1724831288; _ym_isad=2; _ym_visorc=w; BITRIX_CONVERSION_CONTEXT_s1=%7B%22ID%22%3A2%2C%22EXPIRE%22%3A1724878740%2C%22UNIQUE%22%3A%5B%22conversion_visit_day%22%5D%7D',\n",
    "    'priority': 'u=0, i',\n",
    "    'referer': 'https://fkfd.ru/',\n",
    "    'sec-ch-ua': '\"Chromium\";v=\"128\", \"Not;A=Brand\";v=\"24\", \"Google Chrome\";v=\"128\"',\n",
    "    'sec-ch-ua-mobile': '?0',\n",
    "    'sec-ch-ua-platform': '\"Windows\"',\n",
    "    'sec-fetch-dest': 'document',\n",
    "    'sec-fetch-mode': 'navigate',\n",
    "    'sec-fetch-site': 'same-origin',\n",
    "    'sec-fetch-user': '?1',\n",
    "    'upgrade-insecure-requests': '1',\n",
    "    'user-agent': 'Mozilla/5.0 (Windows NT 10.0; Win64; x64) AppleWebKit/537.36 (KHTML, like Gecko) Chrome/128.0.0.0 Safari/537.36',\n",
    "}\n",
    "\n",
    "response = requests.get('https://fkfd.ru/shop/', \n",
    "                        # cookies=cookies, \n",
    "                        # headers=headers\n",
    "                        )\n",
    "response"
   ]
  },
  {
   "cell_type": "code",
   "execution_count": 6,
   "metadata": {},
   "outputs": [],
   "source": [
    "with open('data/test/test.html', 'wb') as f:\n",
    "    f.write(response.content)"
   ]
  }
 ],
 "metadata": {
  "kernelspec": {
   "display_name": "Python 3",
   "language": "python",
   "name": "python3"
  },
  "language_info": {
   "codemirror_mode": {
    "name": "ipython",
    "version": 3
   },
   "file_extension": ".py",
   "mimetype": "text/x-python",
   "name": "python",
   "nbconvert_exporter": "python",
   "pygments_lexer": "ipython3",
   "version": "3.12.2"
  }
 },
 "nbformat": 4,
 "nbformat_minor": 2
}
