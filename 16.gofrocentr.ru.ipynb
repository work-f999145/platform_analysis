{
 "cells": [
  {
   "cell_type": "code",
   "execution_count": null,
   "metadata": {},
   "outputs": [],
   "source": [
    "import pandas as pd\n",
    "import re\n",
    "from bs4 import BeautifulSoup as BS\n",
    "import requests"
   ]
  },
  {
   "cell_type": "code",
   "execution_count": 3,
   "metadata": {},
   "outputs": [
    {
     "data": {
      "text/plain": [
       "<Response [200]>"
      ]
     },
     "execution_count": 3,
     "metadata": {},
     "output_type": "execute_result"
    }
   ],
   "source": [
    "import requests\n",
    "\n",
    "cookies = {\n",
    "    'PHPSESSID': '9mInlNq2EenZLEeMNfc66XHfEyvhn4ce',\n",
    "    'BITRIX_SM_SALE_UID': '2551458',\n",
    "    'BITRIX_CONVERSION_CONTEXT_s1': '%7B%22ID%22%3A1%2C%22EXPIRE%22%3A1724878740%2C%22UNIQUE%22%3A%5B%22conversion_visit_day%22%5D%7D',\n",
    "    'isOrderFinish': '0',\n",
    "    'isVisitedContactsPage': '0',\n",
    "    'isSearchNotResult': '0',\n",
    "    'isSearchNotResultClickMenu': '0',\n",
    "    'tmr_lvid': 'f6d701e80ad7c7cce4f00e6485501940',\n",
    "    'tmr_lvidTS': '1724847553047',\n",
    "    '_ym_uid': '172484755357086188',\n",
    "    '_ym_d': '1724847553',\n",
    "    '_ym_isad': '2',\n",
    "    'BX_USER_ID': 'a56e41748e543b4d115c2f9d285940c5',\n",
    "    'domain_sid': 'ZVVQ6QoKJTs8o5azm1ERh%3A1724847553128',\n",
    "    '_ym_visorc': 'w',\n",
    "    '_cmg_csstKT7rb': '1724847555',\n",
    "    '_comagic_idKT7rb': '9023783051.13006038481.1724847554',\n",
    "    'tmr_detect': '0%7C1724847555459',\n",
    "}\n",
    "\n",
    "headers = {\n",
    "    'accept': 'text/html,application/xhtml+xml,application/xml;q=0.9,image/avif,image/webp,image/apng,*/*;q=0.8,application/signed-exchange;v=b3;q=0.7',\n",
    "    'accept-language': 'ru-RU,ru;q=0.9,en-US;q=0.8,en;q=0.7,de;q=0.6',\n",
    "    # 'cookie': 'PHPSESSID=9mInlNq2EenZLEeMNfc66XHfEyvhn4ce; BITRIX_SM_SALE_UID=2551458; BITRIX_CONVERSION_CONTEXT_s1=%7B%22ID%22%3A1%2C%22EXPIRE%22%3A1724878740%2C%22UNIQUE%22%3A%5B%22conversion_visit_day%22%5D%7D; isOrderFinish=0; isVisitedContactsPage=0; isSearchNotResult=0; isSearchNotResultClickMenu=0; tmr_lvid=f6d701e80ad7c7cce4f00e6485501940; tmr_lvidTS=1724847553047; _ym_uid=172484755357086188; _ym_d=1724847553; _ym_isad=2; BX_USER_ID=a56e41748e543b4d115c2f9d285940c5; domain_sid=ZVVQ6QoKJTs8o5azm1ERh%3A1724847553128; _ym_visorc=w; _cmg_csstKT7rb=1724847555; _comagic_idKT7rb=9023783051.13006038481.1724847554; tmr_detect=0%7C1724847555459',\n",
    "    'priority': 'u=0, i',\n",
    "    'referer': 'https://gofrocentr.ru/',\n",
    "    'sec-ch-ua': '\"Chromium\";v=\"128\", \"Not;A=Brand\";v=\"24\", \"Google Chrome\";v=\"128\"',\n",
    "    'sec-ch-ua-mobile': '?0',\n",
    "    'sec-ch-ua-platform': '\"Windows\"',\n",
    "    'sec-fetch-dest': 'document',\n",
    "    'sec-fetch-mode': 'navigate',\n",
    "    'sec-fetch-site': 'same-origin',\n",
    "    'sec-fetch-user': '?1',\n",
    "    'upgrade-insecure-requests': '1',\n",
    "    'user-agent': 'Mozilla/5.0 (Windows NT 10.0; Win64; x64) AppleWebKit/537.36 (KHTML, like Gecko) Chrome/128.0.0.0 Safari/537.36',\n",
    "}\n",
    "\n",
    "response = requests.get('https://gofrocentr.ru/kupit_korobki/samosbornie_korobki/archive/', \n",
    "                        # cookies=cookies, \n",
    "                        # headers=headers\n",
    "                        )\n",
    "response"
   ]
  },
  {
   "cell_type": "code",
   "execution_count": 4,
   "metadata": {},
   "outputs": [],
   "source": [
    "with open('data/test/test.html', 'wb') as f:\n",
    "    f.write(response.content)"
   ]
  }
 ],
 "metadata": {
  "kernelspec": {
   "display_name": "Python 3",
   "language": "python",
   "name": "python3"
  },
  "language_info": {
   "codemirror_mode": {
    "name": "ipython",
    "version": 3
   },
   "file_extension": ".py",
   "mimetype": "text/x-python",
   "name": "python",
   "nbconvert_exporter": "python",
   "pygments_lexer": "ipython3",
   "version": "3.12.2"
  }
 },
 "nbformat": 4,
 "nbformat_minor": 2
}
