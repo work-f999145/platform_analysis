{
 "cells": [
  {
   "cell_type": "code",
   "execution_count": null,
   "metadata": {},
   "outputs": [],
   "source": [
    "import pandas as pd\n",
    "import re\n",
    "from bs4 import BeautifulSoup as BS\n",
    "import requests"
   ]
  },
  {
   "cell_type": "code",
   "execution_count": 3,
   "metadata": {},
   "outputs": [
    {
     "data": {
      "text/plain": [
       "<Response [200]>"
      ]
     },
     "execution_count": 3,
     "metadata": {},
     "output_type": "execute_result"
    }
   ],
   "source": [
    "import requests\n",
    "\n",
    "cookies = {\n",
    "    'PHPSESSID': '5VUUDa0aa3wwf1XUXjEuK14UUVyXgKBW',\n",
    "    'agci_httpaccept': 'text%2Fhtml%2Capplication%2Fxhtml%2Bxml%2Capplication%2Fxml%3Bq%3D0.9%2Cimage%2Favif%2Cimage%2Fwebp%2Cimage%2Fapng%2C%2A%2F%2A%3Bq%3D0.8%2Capplication%2Fsigned-exchange%3Bv%3Db3%3Bq%3D0.7',\n",
    "    'BITRIX_SM_PK': 'standart',\n",
    "    'BITRIX_SM_GUEST_ID': '854037',\n",
    "    '_ym_uid': '1724848090812109908',\n",
    "    '_ym_d': '1724848090',\n",
    "    '_ym_isad': '2',\n",
    "    'BITRIX_CONVERSION_CONTEXT_s1': '%7B%22ID%22%3A3%2C%22EXPIRE%22%3A1724878740%2C%22UNIQUE%22%3A%5B%22conversion_visit_day%22%5D%7D',\n",
    "    '_gid': 'GA1.2.1582985243.1724848090',\n",
    "    '_ym_visorc': 'w',\n",
    "    'BX_USER_ID': 'a56e41748e543b4d115c2f9d285940c5',\n",
    "    '_gat_gtag_UA_133839410_1': '1',\n",
    "    'BITRIX_SM_LAST_VISIT': '28.08.2024%2015%3A29%3A26',\n",
    "    '_ga_857MQB04S7': 'GS1.1.1724848090.1.1.1724848167.0.0.0',\n",
    "    '_ga': 'GA1.1.2128302794.1724848090',\n",
    "}\n",
    "\n",
    "headers = {\n",
    "    'accept': 'text/html,application/xhtml+xml,application/xml;q=0.9,image/avif,image/webp,image/apng,*/*;q=0.8,application/signed-exchange;v=b3;q=0.7',\n",
    "    'accept-language': 'ru-RU,ru;q=0.9,en-US;q=0.8,en;q=0.7,de;q=0.6',\n",
    "    # 'cookie': 'PHPSESSID=5VUUDa0aa3wwf1XUXjEuK14UUVyXgKBW; agci_httpaccept=text%2Fhtml%2Capplication%2Fxhtml%2Bxml%2Capplication%2Fxml%3Bq%3D0.9%2Cimage%2Favif%2Cimage%2Fwebp%2Cimage%2Fapng%2C%2A%2F%2A%3Bq%3D0.8%2Capplication%2Fsigned-exchange%3Bv%3Db3%3Bq%3D0.7; BITRIX_SM_PK=standart; BITRIX_SM_GUEST_ID=854037; _ym_uid=1724848090812109908; _ym_d=1724848090; _ym_isad=2; BITRIX_CONVERSION_CONTEXT_s1=%7B%22ID%22%3A3%2C%22EXPIRE%22%3A1724878740%2C%22UNIQUE%22%3A%5B%22conversion_visit_day%22%5D%7D; _gid=GA1.2.1582985243.1724848090; _ym_visorc=w; BX_USER_ID=a56e41748e543b4d115c2f9d285940c5; _gat_gtag_UA_133839410_1=1; BITRIX_SM_LAST_VISIT=28.08.2024%2015%3A29%3A26; _ga_857MQB04S7=GS1.1.1724848090.1.1.1724848167.0.0.0; _ga=GA1.1.2128302794.1724848090',\n",
    "    'priority': 'u=0, i',\n",
    "    'referer': 'https://teampack-pro.ru/kartonnaya-upakovka/s-kryshkoy/',\n",
    "    'sec-ch-ua': '\"Chromium\";v=\"128\", \"Not;A=Brand\";v=\"24\", \"Google Chrome\";v=\"128\"',\n",
    "    'sec-ch-ua-mobile': '?0',\n",
    "    'sec-ch-ua-platform': '\"Windows\"',\n",
    "    'sec-fetch-dest': 'document',\n",
    "    'sec-fetch-mode': 'navigate',\n",
    "    'sec-fetch-site': 'same-origin',\n",
    "    'sec-fetch-user': '?1',\n",
    "    'upgrade-insecure-requests': '1',\n",
    "    'user-agent': 'Mozilla/5.0 (Windows NT 10.0; Win64; x64) AppleWebKit/537.36 (KHTML, like Gecko) Chrome/128.0.0.0 Safari/537.36',\n",
    "}\n",
    "\n",
    "response = requests.get('https://teampack-pro.ru/kartonnaya-upakovka/korobka-chemodan/', \n",
    "                        # cookies=cookies, \n",
    "                        # headers=headers\n",
    "                        )\n",
    "response"
   ]
  },
  {
   "cell_type": "code",
   "execution_count": 4,
   "metadata": {},
   "outputs": [],
   "source": [
    "with open('data/test/test.html', 'wb') as f:\n",
    "    f.write(response.content)"
   ]
  }
 ],
 "metadata": {
  "kernelspec": {
   "display_name": "Python 3",
   "language": "python",
   "name": "python3"
  },
  "language_info": {
   "codemirror_mode": {
    "name": "ipython",
    "version": 3
   },
   "file_extension": ".py",
   "mimetype": "text/x-python",
   "name": "python",
   "nbconvert_exporter": "python",
   "pygments_lexer": "ipython3",
   "version": "3.12.2"
  }
 },
 "nbformat": 4,
 "nbformat_minor": 2
}
