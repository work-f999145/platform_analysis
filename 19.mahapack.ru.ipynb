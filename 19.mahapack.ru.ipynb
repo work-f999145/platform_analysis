{
 "cells": [
  {
   "cell_type": "code",
   "execution_count": null,
   "metadata": {},
   "outputs": [],
   "source": [
    "import pandas as pd\n",
    "import re\n",
    "from bs4 import BeautifulSoup as BS\n",
    "import requests"
   ]
  },
  {
   "cell_type": "code",
   "execution_count": 1,
   "metadata": {},
   "outputs": [
    {
     "data": {
      "text/plain": [
       "<Response [200]>"
      ]
     },
     "execution_count": 1,
     "metadata": {},
     "output_type": "execute_result"
    }
   ],
   "source": [
    "import requests\n",
    "\n",
    "cookies = {\n",
    "    'has_js': '1',\n",
    "    'req_uid': '',\n",
    "    '_adlabs_uid': '669641',\n",
    "    'ref_type': 'ref_main',\n",
    "    'ref_ID': '1',\n",
    "    '_ishuman': 'true',\n",
    "    'SESS7aaed4857f5e403c6eb8bd0abc1bbe47': 'ehgc3kqhsipj7h9oqfitv9rdt1',\n",
    "    '_ga_N8V79YP9WB': 'GS1.1.1724848455.1.0.1724848455.60.0.0',\n",
    "    '_ga': 'GA1.1.1869862918.1724848456',\n",
    "    '_ym_uid': '1724848456570689698',\n",
    "    '_ym_d': '1724848456',\n",
    "    '_ym_isad': '2',\n",
    "    '_ym_visorc': 'w',\n",
    "}\n",
    "\n",
    "headers = {\n",
    "    'Accept': 'text/html,application/xhtml+xml,application/xml;q=0.9,image/avif,image/webp,image/apng,*/*;q=0.8,application/signed-exchange;v=b3;q=0.7',\n",
    "    'Accept-Language': 'ru-RU,ru;q=0.9,en-US;q=0.8,en;q=0.7,de;q=0.6',\n",
    "    'Connection': 'keep-alive',\n",
    "    # 'Cookie': 'has_js=1; req_uid=; _adlabs_uid=669641; ref_type=ref_main; ref_ID=1; _ishuman=true; SESS7aaed4857f5e403c6eb8bd0abc1bbe47=ehgc3kqhsipj7h9oqfitv9rdt1; _ga_N8V79YP9WB=GS1.1.1724848455.1.0.1724848455.60.0.0; _ga=GA1.1.1869862918.1724848456; _ym_uid=1724848456570689698; _ym_d=1724848456; _ym_isad=2; _ym_visorc=w',\n",
    "    'Referer': 'https://mahapack.ru/',\n",
    "    'Sec-Fetch-Dest': 'document',\n",
    "    'Sec-Fetch-Mode': 'navigate',\n",
    "    'Sec-Fetch-Site': 'same-origin',\n",
    "    'Sec-Fetch-User': '?1',\n",
    "    'Upgrade-Insecure-Requests': '1',\n",
    "    'User-Agent': 'Mozilla/5.0 (Windows NT 10.0; Win64; x64) AppleWebKit/537.36 (KHTML, like Gecko) Chrome/128.0.0.0 Safari/537.36',\n",
    "    'sec-ch-ua': '\"Chromium\";v=\"128\", \"Not;A=Brand\";v=\"24\", \"Google Chrome\";v=\"128\"',\n",
    "    'sec-ch-ua-mobile': '?0',\n",
    "    'sec-ch-ua-platform': '\"Windows\"',\n",
    "}\n",
    "\n",
    "response = requests.get('https://mahapack.ru/catalog', \n",
    "                        # cookies=cookies, \n",
    "                        # headers=headers\n",
    "                        )\n",
    "response"
   ]
  },
  {
   "cell_type": "code",
   "execution_count": 2,
   "metadata": {},
   "outputs": [],
   "source": [
    "with open('data/test/test.html', 'wb') as f:\n",
    "    f.write(response.content)"
   ]
  }
 ],
 "metadata": {
  "kernelspec": {
   "display_name": "Python 3",
   "language": "python",
   "name": "python3"
  },
  "language_info": {
   "codemirror_mode": {
    "name": "ipython",
    "version": 3
   },
   "file_extension": ".py",
   "mimetype": "text/x-python",
   "name": "python",
   "nbconvert_exporter": "python",
   "pygments_lexer": "ipython3",
   "version": "3.12.2"
  }
 },
 "nbformat": 4,
 "nbformat_minor": 2
}
