{
 "cells": [
  {
   "cell_type": "code",
   "execution_count": null,
   "metadata": {},
   "outputs": [],
   "source": [
    "import pandas as pd\n",
    "import re\n",
    "from bs4 import BeautifulSoup as BS\n",
    "import requests"
   ]
  },
  {
   "cell_type": "code",
   "execution_count": 7,
   "metadata": {},
   "outputs": [
    {
     "data": {
      "text/plain": [
       "<Response [200]>"
      ]
     },
     "execution_count": 7,
     "metadata": {},
     "output_type": "execute_result"
    }
   ],
   "source": [
    "import requests\n",
    "\n",
    "cookies = {\n",
    "    '_ym_uid': '1724845890726661690',\n",
    "    '_ym_d': '1724845890',\n",
    "    '_ym_isad': '2',\n",
    "    '_gid': 'GA1.2.1977191550.1724845890',\n",
    "    '_ym_visorc': 'w',\n",
    "    'i18n_redirected': 'ru',\n",
    "    'vuex': '{%22auth%22:{%22token%22:null%2C%22isAuthenticated%22:false}%2C%22category%22:{%22categoryView%22:%22grid%22}%2C%22region%22:{%22currentRegion%22:null%2C%22hasBeenSelected%22:false}%2C%22core%22:{%22isCookie%22:true}}',\n",
    "    'cted': 'modId%3Dos3l79cg%3Bclient_id%3D111423811.1724845890%3Bya_client_id%3D1724845890726661690',\n",
    "    '_gat_UA-172930872-1': '1',\n",
    "    '_ct_ids': 'os3l79cg%3A38726%3A848454853',\n",
    "    '_ct_session_id': '848454853',\n",
    "    '_ct_site_id': '38726',\n",
    "    'call_s': '___os3l79cg.1724848187.848454853.154607:477662.154608:480902|2___',\n",
    "    '_ct': '1500000000541218220',\n",
    "    '_ct_client_global_id': 'a0a0eb3c-1e81-545d-8a7a-b9e808d88f71',\n",
    "    '_ga_L8KQB9GK7P': 'GS1.2.1724845890.1.1.1724846388.60.0.0',\n",
    "    '_ga': 'GA1.1.111423811.1724845890',\n",
    "    '_ga_EZP3W670WH': 'GS1.1.1724845890.1.1.1724846393.0.0.0',\n",
    "}\n",
    "\n",
    "headers = {\n",
    "    'accept': 'text/html,application/xhtml+xml,application/xml;q=0.9,image/avif,image/webp,image/apng,*/*;q=0.8,application/signed-exchange;v=b3;q=0.7',\n",
    "    'accept-language': 'ru-RU,ru;q=0.9,en-US;q=0.8,en;q=0.7,de;q=0.6',\n",
    "    'cache-control': 'max-age=0',\n",
    "    # 'cookie': '_ym_uid=1724845890726661690; _ym_d=1724845890; _ym_isad=2; _gid=GA1.2.1977191550.1724845890; _ym_visorc=w; i18n_redirected=ru; vuex={%22auth%22:{%22token%22:null%2C%22isAuthenticated%22:false}%2C%22category%22:{%22categoryView%22:%22grid%22}%2C%22region%22:{%22currentRegion%22:null%2C%22hasBeenSelected%22:false}%2C%22core%22:{%22isCookie%22:true}}; cted=modId%3Dos3l79cg%3Bclient_id%3D111423811.1724845890%3Bya_client_id%3D1724845890726661690; _gat_UA-172930872-1=1; _ct_ids=os3l79cg%3A38726%3A848454853; _ct_session_id=848454853; _ct_site_id=38726; call_s=___os3l79cg.1724848187.848454853.154607:477662.154608:480902|2___; _ct=1500000000541218220; _ct_client_global_id=a0a0eb3c-1e81-545d-8a7a-b9e808d88f71; _ga_L8KQB9GK7P=GS1.2.1724845890.1.1.1724846388.60.0.0; _ga=GA1.1.111423811.1724845890; _ga_EZP3W670WH=GS1.1.1724845890.1.1.1724846393.0.0.0',\n",
    "    'priority': 'u=0, i',\n",
    "    'referer': 'https://www.komupak.ru/category/kartonnye-korobki-po-konstrukciyam/kartonnye-korobki-po-konstrukciyam-chetyrehklapannye-korobki?page=2&sort=0&property',\n",
    "    'sec-ch-ua': '\"Chromium\";v=\"128\", \"Not;A=Brand\";v=\"24\", \"Google Chrome\";v=\"128\"',\n",
    "    'sec-ch-ua-mobile': '?0',\n",
    "    'sec-ch-ua-platform': '\"Windows\"',\n",
    "    'sec-fetch-dest': 'document',\n",
    "    'sec-fetch-mode': 'navigate',\n",
    "    'sec-fetch-site': 'same-origin',\n",
    "    'sec-fetch-user': '?1',\n",
    "    'upgrade-insecure-requests': '1',\n",
    "    'user-agent': 'Mozilla/5.0 (Windows NT 10.0; Win64; x64) AppleWebKit/537.36 (KHTML, like Gecko) Chrome/128.0.0.0 Safari/537.36',\n",
    "}\n",
    "\n",
    "params = {\n",
    "    'page':'2',\n",
    "    'sort':'0',\n",
    "    'property':None,\n",
    "}\n",
    "\n",
    "response = requests.get(\n",
    "    'https://www.komupak.ru/category/kartonnye-korobki-po-konstrukciyam/kartonnye-korobki-po-konstrukciyam-chetyrehklapannye-korobki',\n",
    "    # cookies=cookies,\n",
    "    # headers=headers,\n",
    "    params=params\n",
    ")\n",
    "response"
   ]
  },
  {
   "cell_type": "code",
   "execution_count": 8,
   "metadata": {},
   "outputs": [],
   "source": [
    "with open('data/test/test.html', 'wb') as f:\n",
    "    f.write(response.content)"
   ]
  }
 ],
 "metadata": {
  "kernelspec": {
   "display_name": "Python 3",
   "language": "python",
   "name": "python3"
  },
  "language_info": {
   "codemirror_mode": {
    "name": "ipython",
    "version": 3
   },
   "file_extension": ".py",
   "mimetype": "text/x-python",
   "name": "python",
   "nbconvert_exporter": "python",
   "pygments_lexer": "ipython3",
   "version": "3.12.2"
  }
 },
 "nbformat": 4,
 "nbformat_minor": 2
}
