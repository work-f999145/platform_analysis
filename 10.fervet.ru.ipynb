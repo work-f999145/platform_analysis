{
 "cells": [
  {
   "cell_type": "code",
   "execution_count": null,
   "metadata": {},
   "outputs": [],
   "source": [
    "import pandas as pd\n",
    "import re\n",
    "from bs4 import BeautifulSoup as BS\n",
    "import requests"
   ]
  },
  {
   "cell_type": "code",
   "execution_count": 3,
   "metadata": {},
   "outputs": [
    {
     "data": {
      "text/plain": [
       "<Response [200]>"
      ]
     },
     "execution_count": 3,
     "metadata": {},
     "output_type": "execute_result"
    }
   ],
   "source": [
    "import requests\n",
    "\n",
    "cookies = {\n",
    "    'stats': '1',\n",
    "    '_ym_uid': '1724844157218265747',\n",
    "    '_ym_d': '1724844157',\n",
    "    'tmr_lvid': 'a86dfae189c2d9579e0118f736279b6d',\n",
    "    'tmr_lvidTS': '1724844156694',\n",
    "    's3_user_token': 'fGbPFxiJfyR2',\n",
    "    '_ym_isad': '2',\n",
    "    '_ym_visorc': 'w',\n",
    "    '_sntnl[en]': '1',\n",
    "    'domain_sid': 'DpZMQgEqQ1DZMcr-w6aW9%3A1724844156992',\n",
    "    'mgo_uid': 'ZnEt5dceAOk2TGa27l7R',\n",
    "    'mgo_cnt': '1',\n",
    "    'mgo_sid': '76qnsixe9p11001x4v6i',\n",
    "    'roistat_visit': '112096',\n",
    "    'roistat_first_visit': '112096',\n",
    "    'roistat_visit_cookie_expire': '1209600',\n",
    "    'roistat_is_need_listen_requests': '0',\n",
    "    'roistat_is_save_data_in_cookie': '1',\n",
    "    'roistat_cookies_to_resave': 'roistat_ab%2Croistat_ab_submit%2Croistat_visit',\n",
    "    '___dc': 'c83f7718-7ce6-4e94-99a8-8a2abd9b5c9b',\n",
    "    'sh2lastfid': '418170661',\n",
    "    '_sntnl[dd]': '-357847055',\n",
    "    'tmr_detect': '0%7C1724844164563',\n",
    "}\n",
    "\n",
    "headers = {\n",
    "    'accept': 'text/html,application/xhtml+xml,application/xml;q=0.9,image/avif,image/webp,image/apng,*/*;q=0.8,application/signed-exchange;v=b3;q=0.7',\n",
    "    'accept-language': 'ru-RU,ru;q=0.9,en-US;q=0.8,en;q=0.7,de;q=0.6',\n",
    "    # 'cookie': 'stats=1; _ym_uid=1724844157218265747; _ym_d=1724844157; tmr_lvid=a86dfae189c2d9579e0118f736279b6d; tmr_lvidTS=1724844156694; s3_user_token=fGbPFxiJfyR2; _ym_isad=2; _ym_visorc=w; _sntnl[en]=1; domain_sid=DpZMQgEqQ1DZMcr-w6aW9%3A1724844156992; mgo_uid=ZnEt5dceAOk2TGa27l7R; mgo_cnt=1; mgo_sid=76qnsixe9p11001x4v6i; roistat_visit=112096; roistat_first_visit=112096; roistat_visit_cookie_expire=1209600; roistat_is_need_listen_requests=0; roistat_is_save_data_in_cookie=1; roistat_cookies_to_resave=roistat_ab%2Croistat_ab_submit%2Croistat_visit; ___dc=c83f7718-7ce6-4e94-99a8-8a2abd9b5c9b; sh2lastfid=418170661; _sntnl[dd]=-357847055; tmr_detect=0%7C1724844164563',\n",
    "    'priority': 'u=0, i',\n",
    "    'referer': 'https://fervet.ru/magazin/folder/kartonnye-korobki',\n",
    "    'sec-ch-ua': '\"Chromium\";v=\"128\", \"Not;A=Brand\";v=\"24\", \"Google Chrome\";v=\"128\"',\n",
    "    'sec-ch-ua-mobile': '?0',\n",
    "    'sec-ch-ua-platform': '\"Windows\"',\n",
    "    'sec-fetch-dest': 'document',\n",
    "    'sec-fetch-mode': 'navigate',\n",
    "    'sec-fetch-site': 'same-origin',\n",
    "    'sec-fetch-user': '?1',\n",
    "    'upgrade-insecure-requests': '1',\n",
    "    'user-agent': 'Mozilla/5.0 (Windows NT 10.0; Win64; x64) AppleWebKit/537.36 (KHTML, like Gecko) Chrome/128.0.0.0 Safari/537.36',\n",
    "}\n",
    "\n",
    "response = requests.get('https://fervet.ru/magazin/folder/chetyrekhklapannyye', \n",
    "                        # cookies=cookies, \n",
    "                        # headers=headers\n",
    "                        )\n",
    "response"
   ]
  },
  {
   "cell_type": "code",
   "execution_count": 4,
   "metadata": {},
   "outputs": [],
   "source": [
    "with open('data/test/test.html', 'wb') as f:\n",
    "    f.write(response.content)"
   ]
  }
 ],
 "metadata": {
  "kernelspec": {
   "display_name": "Python 3",
   "language": "python",
   "name": "python3"
  },
  "language_info": {
   "codemirror_mode": {
    "name": "ipython",
    "version": 3
   },
   "file_extension": ".py",
   "mimetype": "text/x-python",
   "name": "python",
   "nbconvert_exporter": "python",
   "pygments_lexer": "ipython3",
   "version": "3.12.2"
  }
 },
 "nbformat": 4,
 "nbformat_minor": 2
}
