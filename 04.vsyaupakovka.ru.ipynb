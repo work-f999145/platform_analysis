{
 "cells": [
  {
   "cell_type": "code",
   "execution_count": 2,
   "metadata": {},
   "outputs": [],
   "source": [
    "import pandas as pd\n",
    "import re\n",
    "from bs4 import BeautifulSoup as BS\n",
    "import requests"
   ]
  },
  {
   "cell_type": "code",
   "execution_count": 5,
   "metadata": {},
   "outputs": [
    {
     "data": {
      "text/plain": [
       "<Response [200]>"
      ]
     },
     "execution_count": 5,
     "metadata": {},
     "output_type": "execute_result"
    }
   ],
   "source": [
    "cookies = {\n",
    "    'PHPSESSID': '7M8MEsURGW6yquMD7XvB7t3Qu62xgO9J',\n",
    "    'ga_user_id': '1724830198.7188.421146',\n",
    "    'BITRIX_SM_SALE_UID': 'd4f8e95f8bf8ebe0bb46ba5c710e22da',\n",
    "    'v1_referrer_callibri': '',\n",
    "    'v1_data': '',\n",
    "    'BX_USER_ID': 'a56e41748e543b4d115c2f9d285940c5',\n",
    "    'roistat_visit': '2224540',\n",
    "    'roistat_first_visit': '2224540',\n",
    "    'roistat_visit_cookie_expire': '1209600',\n",
    "    'roistat_is_need_listen_requests': '0',\n",
    "    'roistat_is_save_data_in_cookie': '1',\n",
    "    '_fbp': 'fb.1.1724830200568.206355646640422843',\n",
    "    'carrotquest_session': 'md21ooorisq2ku6ecx1kjq7086tu1m42',\n",
    "    'roistat_cookies_to_resave': 'roistat_ab%2Croistat_ab_submit%2Croistat_visit',\n",
    "}\n",
    "\n",
    "headers = {\n",
    "    'accept': 'text/html,application/xhtml+xml,application/xml;q=0.9,image/avif,image/webp,image/apng,*/*;q=0.8,application/signed-exchange;v=b3;q=0.7',\n",
    "    'accept-language': 'ru-RU,ru;q=0.9,en-US;q=0.8,en;q=0.7,de;q=0.6',\n",
    "    # 'cookie': 'PHPSESSID=7M8MEsURGW6yquMD7XvB7t3Qu62xgO9J; ga_user_id=1724830198.7188.421146; BITRIX_SM_SALE_UID=d4f8e95f8bf8ebe0bb46ba5c710e22da; v1_referrer_callibri=; v1_data=; BX_USER_ID=a56e41748e543b4d115c2f9d285940c5; roistat_visit=2224540; roistat_first_visit=2224540; roistat_visit_cookie_expire=1209600; roistat_is_need_listen_requests=0; roistat_is_save_data_in_cookie=1; _fbp=fb.1.1724830200568.206355646640422843; carrotquest_session=md21ooorisq2ku6ecx1kjq7086tu1m42; roistat_cookies_to_resave=roistat_ab%2Croistat_ab_submit%2Croistat_visit',\n",
    "    'priority': 'u=0, i',\n",
    "    'referer': 'https://vsyaupakovka.ru/',\n",
    "    'sec-ch-ua': '\"Chromium\";v=\"128\", \"Not;A=Brand\";v=\"24\", \"Google Chrome\";v=\"128\"',\n",
    "    'sec-ch-ua-mobile': '?0',\n",
    "    'sec-ch-ua-platform': '\"Windows\"',\n",
    "    'sec-fetch-dest': 'document',\n",
    "    'sec-fetch-mode': 'navigate',\n",
    "    'sec-fetch-site': 'same-origin',\n",
    "    'sec-fetch-user': '?1',\n",
    "    'upgrade-insecure-requests': '1',\n",
    "    'user-agent': 'Mozilla/5.0 (Windows NT 10.0; Win64; x64) AppleWebKit/537.36 (KHTML, like Gecko) Chrome/128.0.0.0 Safari/537.36',\n",
    "}\n",
    "\n",
    "response = requests.get('https://vsyaupakovka.ru/pochtovye_korobki_new_design/', \n",
    "                        # cookies=cookies, \n",
    "                        # headers=headers\n",
    "                        )\n",
    "response"
   ]
  },
  {
   "cell_type": "code",
   "execution_count": 7,
   "metadata": {},
   "outputs": [],
   "source": [
    "with open('data/test/test.html', 'wb') as f:\n",
    "    f.write(response.content)"
   ]
  }
 ],
 "metadata": {
  "kernelspec": {
   "display_name": "Python 3",
   "language": "python",
   "name": "python3"
  },
  "language_info": {
   "codemirror_mode": {
    "name": "ipython",
    "version": 3
   },
   "file_extension": ".py",
   "mimetype": "text/x-python",
   "name": "python",
   "nbconvert_exporter": "python",
   "pygments_lexer": "ipython3",
   "version": "3.12.2"
  }
 },
 "nbformat": 4,
 "nbformat_minor": 2
}
